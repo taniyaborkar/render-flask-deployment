{
  "nbformat": 4,
  "nbformat_minor": 0,
  "metadata": {
    "colab": {
      "provenance": [],
      "authorship_tag": "ABX9TyMgX/UNwP9/WEEBfSibJPeg",
      "include_colab_link": true
    },
    "kernelspec": {
      "name": "python3",
      "display_name": "Python 3"
    },
    "language_info": {
      "name": "python"
    }
  },
  "cells": [
    {
      "cell_type": "markdown",
      "metadata": {
        "id": "view-in-github",
        "colab_type": "text"
      },
      "source": [
        "<a href=\"https://colab.research.google.com/github/taniyaborkar/render-flask-deployment/blob/main/Untitled11.ipynb\" target=\"_parent\"><img src=\"https://colab.research.google.com/assets/colab-badge.svg\" alt=\"Open In Colab\"/></a>"
      ]
    },
    {
      "cell_type": "code",
      "execution_count": 1,
      "metadata": {
        "id": "loka0wnYY171"
      },
      "outputs": [],
      "source": [
        "import numpy as np\n",
        "import matplotlib.pyplot as plt\n",
        "import seaborn as sns\n",
        "from sklearn.datasets import load_wine\n",
        "from sklearn.model_selection import train_test_split\n",
        "from sklearn.preprocessing import StandardScaler\n",
        "from sklearn.neural_network import MLPClassifier\n",
        "from sklearn.metrics import classification_report, confusion_matrix, accuracy_score\n",
        "from time import time\n",
        "import warnings\n",
        "from sklearn.exceptions import ConvergenceWarning"
      ]
    },
    {
      "cell_type": "code",
      "source": [
        "warnings.filterwarnings(\"ignore\", category=ConvergenceWarning)"
      ],
      "metadata": {
        "id": "DFSUsJXYZNK2"
      },
      "execution_count": 2,
      "outputs": []
    },
    {
      "cell_type": "code",
      "source": [
        "dataset = load_wine()\n",
        "features = dataset.data\n",
        "labels = dataset.target\n",
        "label_names = dataset.target_names"
      ],
      "metadata": {
        "id": "u9G82xq6ZNNX"
      },
      "execution_count": 4,
      "outputs": []
    },
    {
      "cell_type": "code",
      "source": [
        " print(f\"Classes: {np.unique(labels)}\")\n",
        " print(f\"Class distribution of the dataset: {np.bincount(labels)}\")"
      ],
      "metadata": {
        "colab": {
          "base_uri": "https://localhost:8080/",
          "height": 0
        },
        "id": "jn4ZzRyiZNRB",
        "outputId": "1da9b990-4368-444a-a733-6cedc98780ce"
      },
      "execution_count": 5,
      "outputs": [
        {
          "output_type": "stream",
          "name": "stdout",
          "text": [
            "Classes: [0 1 2]\n",
            "Class distribution of the dataset: [59 71 48]\n"
          ]
        }
      ]
    },
    {
      "cell_type": "code",
      "source": [
        "X_train, X_test, y_train, y_test = train_test_split(features, labels, test_size=0.20, stratify=labels, random_state=42)\n",
        "print(f\"\\nClass distribution for test data: {np.bincount(y_test)}\")"
      ],
      "metadata": {
        "colab": {
          "base_uri": "https://localhost:8080/",
          "height": 0
        },
        "id": "ra1xZMsrZNWI",
        "outputId": "012fe049-2c53-4e1c-9fd9-b44c44f6472b"
      },
      "execution_count": 8,
      "outputs": [
        {
          "output_type": "stream",
          "name": "stdout",
          "text": [
            "\n",
            "Class distribution for test data: [12 14 10]\n"
          ]
        }
      ]
    },
    {
      "cell_type": "code",
      "source": [
        "scaler = StandardScaler()\n",
        "X_train_scaled = scaler.fit_transform(X_train)\n",
        "X_test_scaled = scaler.transform(X_test)"
      ],
      "metadata": {
        "id": "GUhHCg5ZZNZD"
      },
      "execution_count": 9,
      "outputs": []
    },
    {
      "cell_type": "code",
      "source": [
        "epochs = 300\n",
        "mlp_model = MLPClassifier(hidden_layer_sizes=(25, 25, 25), max_iter=1,warm_start=True, verbose=False, random_state=42)\n",
        "loss_values = []"
      ],
      "metadata": {
        "id": "0kg-JAmnZNbp"
      },
      "execution_count": 10,
      "outputs": []
    },
    {
      "cell_type": "code",
      "source": [
        "print(f\"\\nTraining for {epochs} epochs...\")\n",
        "for epoch in range(1, epochs + 1):\n",
        " mlp_model.fit(X_train_scaled, y_train)\n",
        " loss_values.append(mlp_model.loss_)\n",
        " if epoch % 50 == 0 or epoch == epochs:\n",
        "  print(f\"Epoch {epoch:4d}- Loss: {mlp_model.loss_:.4f}\")"
      ],
      "metadata": {
        "colab": {
          "base_uri": "https://localhost:8080/",
          "height": 0
        },
        "id": "z_mYhQmcZNec",
        "outputId": "a701b357-a236-4c99-ddaa-85256944b036"
      },
      "execution_count": 11,
      "outputs": [
        {
          "output_type": "stream",
          "name": "stdout",
          "text": [
            "\n",
            "Training for 300 epochs...\n",
            "Epoch   50- Loss: 0.6571\n",
            "Epoch  100- Loss: 0.0584\n",
            "Epoch  150- Loss: 0.0003\n",
            "Epoch  200- Loss: 0.0000\n",
            "Epoch  250- Loss: 0.0000\n",
            "Epoch  300- Loss: 0.0000\n"
          ]
        }
      ]
    },
    {
      "cell_type": "code",
      "source": [
        "y_predicted = mlp_model.predict(X_test_scaled)\n",
        "accuracy = accuracy_score(y_test, y_predicted)\n",
        "conf_matrix = confusion_matrix(y_test, y_predicted)\n",
        "class_report = classification_report(y_test, y_predicted,target_names=label_names)"
      ],
      "metadata": {
        "id": "Qvi2j2IpZNho"
      },
      "execution_count": 14,
      "outputs": []
    },
    {
      "cell_type": "code",
      "source": [
        "print(\"\\nConfusion Matrix:\\n\", conf_matrix)\n",
        "print(\"\\nClassification Report:\\n\", class_report)\n",
        "print(f\"\\nAccuracy: {accuracy:.4f}\")"
      ],
      "metadata": {
        "colab": {
          "base_uri": "https://localhost:8080/",
          "height": 0
        },
        "id": "lIEVjVgAatCN",
        "outputId": "33a671a9-7f36-4920-ec6b-7e392ab36c47"
      },
      "execution_count": 16,
      "outputs": [
        {
          "output_type": "stream",
          "name": "stdout",
          "text": [
            "\n",
            "Confusion Matrix:\n",
            " [[12  0  0]\n",
            " [ 0 14  0]\n",
            " [ 0  2  8]]\n",
            "\n",
            "Classification Report:\n",
            "               precision    recall  f1-score   support\n",
            "\n",
            "     class_0       1.00      1.00      1.00        12\n",
            "     class_1       0.88      1.00      0.93        14\n",
            "     class_2       1.00      0.80      0.89        10\n",
            "\n",
            "    accuracy                           0.94        36\n",
            "   macro avg       0.96      0.93      0.94        36\n",
            "weighted avg       0.95      0.94      0.94        36\n",
            "\n",
            "\n",
            "Accuracy: 0.9444\n"
          ]
        }
      ]
    },
    {
      "cell_type": "code",
      "source": [
        " plt.figure(figsize=(8, 6))\n",
        " plt.plot(loss_values, color='blue')\n",
        " plt.title(f'Training Loss Curve ({epochs} Epochs)')\n",
        " plt.xlabel('Epochs')\n",
        " plt.ylabel('Loss')\n",
        " plt.grid(True)\n",
        " plt.tight_layout()\n",
        " plt.show()\n",
        " start_time = time()\n",
        " mlp_model.fit(X_train_scaled, y_train)\n",
        " end_time = time()\n",
        " print(f\"\\nTraining Time (Full Retrain): {(end_time- start_time) * 1000:.3f} ms\")"
      ],
      "metadata": {
        "colab": {
          "base_uri": "https://localhost:8080/",
          "height": 555
        },
        "id": "pVXkS4PRbFFC",
        "outputId": "4b5926e7-cd70-4b17-d806-e0eac89b5865"
      },
      "execution_count": 17,
      "outputs": [
        {
          "output_type": "display_data",
          "data": {
            "text/plain": [
              "<Figure size 800x600 with 1 Axes>"
            ],
            "image/png": "[encoded data removed]"
          },
          "metadata": {}
        },
        {
          "output_type": "stream",
          "name": "stdout",
          "text": [
            "\n",
            "Training Time (Full Retrain): 8.231 ms\n"
          ]
        }
      ]
    }
  ]
}